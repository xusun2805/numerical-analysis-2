{
 "cells": [
  {
   "cell_type": "markdown",
   "metadata": {},
   "source": [
    "# Hints on Homework 1"
   ]
  },
  {
   "cell_type": "markdown",
   "metadata": {},
   "source": [
    "## Problem 1."
   ]
  },
  {
   "cell_type": "markdown",
   "metadata": {},
   "source": [
    "The point of this problem is to thinking of a coin toss problem. One tosses a coin $n$ times and count the number of events where exactly $k$ Heads arise. By converting a float point to binary, we establish a 1-1 correspondence between all outcomes of the toss, and binary reprsentations of numbers from $1$ to $2^n-1$."
   ]
  },
  {
   "cell_type": "code",
   "execution_count": 67,
   "metadata": {
    "collapsed": false
   },
   "outputs": [],
   "source": [
    "import numpy as np\n",
    "def binomial_coeff(n,k):\n",
    "    cnt = 0\n",
    "    for i in range(0,2**n-1):\n",
    "        a =  \"{0:b}\".format(i) # This is an analog of MATLAB's function \"dec2bin\"\n",
    "        count = 0\n",
    "# In MATLAB the following can be easily done by calling \"strfind\" and then look at the length\n",
    "        for idx in range(len(a)): \n",
    "            if a[idx] == \"1\": \n",
    "                count = count+1\n",
    "        if count == k:\n",
    "            cnt = cnt+1\n",
    "    print(cnt)\n",
    "  "
   ]
  },
  {
   "cell_type": "code",
   "execution_count": 71,
   "metadata": {
    "collapsed": false
   },
   "outputs": [
    {
     "name": "stdout",
     "output_type": "stream",
     "text": [
      "19\n"
     ]
    }
   ],
   "source": [
    "binomial_coeff(19,1)"
   ]
  },
  {
   "cell_type": "markdown",
   "metadata": {},
   "source": [
    "## Problem 2"
   ]
  },
  {
   "cell_type": "markdown",
   "metadata": {},
   "source": [
    "This should be fairly straightforward. The only problem is you are finally drawing $y_1(t)$ and $y_2(t)$ with respect to $t$, rather than $y_2(t)$ versus $y_1(t)$ (This is the phase space flow!)."
   ]
  },
  {
   "cell_type": "markdown",
   "metadata": {},
   "source": [
    "## Problem 3"
   ]
  },
  {
   "cell_type": "markdown",
   "metadata": {},
   "source": [
    "This is also straightforward. The already given code will generate the 5 eigenfunctions as a matrix $\\mathbf{V}$ of eigen-column vectors. It suffices to extract them by the MATLAB command `V(:,idx)`. "
   ]
  }
 ],
 "metadata": {
  "kernelspec": {
   "display_name": "Python 2",
   "language": "python",
   "name": "python2"
  },
  "language_info": {
   "codemirror_mode": {
    "name": "ipython",
    "version": 2
   },
   "file_extension": ".py",
   "mimetype": "text/x-python",
   "name": "python",
   "nbconvert_exporter": "python",
   "pygments_lexer": "ipython2",
   "version": "2.7.11"
  }
 },
 "nbformat": 4,
 "nbformat_minor": 0
}
